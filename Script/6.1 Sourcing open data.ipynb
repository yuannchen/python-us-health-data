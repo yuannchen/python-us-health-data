{
 "cells": [
  {
   "cell_type": "markdown",
   "id": "0a3f088e-7de5-4b14-8a0f-b24ce17ed656",
   "metadata": {},
   "source": [
    "# 6.1 Sourcing open data"
   ]
  },
  {
   "cell_type": "markdown",
   "id": "501a8b98-98d9-40de-8e50-cb8d96373dd1",
   "metadata": {},
   "source": [
    "## This script contains the following points:\n",
    "\n",
    "1. Data cleaning: basic data cleaning and consistency checks\n",
    "2. Data understanding: review the variables and perform basic descriptive"
   ]
  },
  {
   "cell_type": "markdown",
   "id": "98f90061-f157-47c3-862f-4080abb814a4",
   "metadata": {},
   "source": [
    "## 1. Data cleaning"
   ]
  },
  {
   "cell_type": "code",
   "execution_count": 4,
   "id": "e6d9d02e-ba92-40df-be17-36b1b1471f81",
   "metadata": {},
   "outputs": [],
   "source": [
    "# Import libraries\n",
    "import pandas as pd\n",
    "import numpy as np\n",
    "import os"
   ]
  },
  {
   "cell_type": "code",
   "execution_count": 5,
   "id": "bf9504c2-5ae1-4961-a271-8240a560e951",
   "metadata": {},
   "outputs": [],
   "source": [
    "# Import dataset\n",
    "path = r'C:\\Users\\admin\\08-2024 Open-Sourced Data Analysis'\n",
    "data = pd.read_csv(os.path.join(path, 'Data', 'adhad.csv'), index_col = False)"
   ]
  },
  {
   "cell_type": "code",
   "execution_count": 6,
   "id": "af8dbfc3-5285-409a-8210-4c23af8670f6",
   "metadata": {},
   "outputs": [
    {
     "data": {
      "text/html": [
       "<div>\n",
       "<style scoped>\n",
       "    .dataframe tbody tr th:only-of-type {\n",
       "        vertical-align: middle;\n",
       "    }\n",
       "\n",
       "    .dataframe tbody tr th {\n",
       "        vertical-align: top;\n",
       "    }\n",
       "\n",
       "    .dataframe thead th {\n",
       "        text-align: right;\n",
       "    }\n",
       "</style>\n",
       "<table border=\"1\" class=\"dataframe\">\n",
       "  <thead>\n",
       "    <tr style=\"text-align: right;\">\n",
       "      <th></th>\n",
       "      <th>YearStart</th>\n",
       "      <th>YearEnd</th>\n",
       "      <th>Data_Value</th>\n",
       "      <th>Data_Value_Alt</th>\n",
       "      <th>Low_Confidence_Limit</th>\n",
       "      <th>High_Confidence_Limit</th>\n",
       "      <th>LocationID</th>\n",
       "    </tr>\n",
       "  </thead>\n",
       "  <tbody>\n",
       "    <tr>\n",
       "      <th>count</th>\n",
       "      <td>284142.000000</td>\n",
       "      <td>284142.000000</td>\n",
       "      <td>192808.000000</td>\n",
       "      <td>192808.000000</td>\n",
       "      <td>192597.000000</td>\n",
       "      <td>192597.000000</td>\n",
       "      <td>284142.000000</td>\n",
       "    </tr>\n",
       "    <tr>\n",
       "      <th>mean</th>\n",
       "      <td>2018.596065</td>\n",
       "      <td>2018.657735</td>\n",
       "      <td>37.676757</td>\n",
       "      <td>37.676757</td>\n",
       "      <td>33.027824</td>\n",
       "      <td>42.595333</td>\n",
       "      <td>800.322677</td>\n",
       "    </tr>\n",
       "    <tr>\n",
       "      <th>std</th>\n",
       "      <td>2.302815</td>\n",
       "      <td>2.360105</td>\n",
       "      <td>25.213484</td>\n",
       "      <td>25.213484</td>\n",
       "      <td>24.290016</td>\n",
       "      <td>26.156408</td>\n",
       "      <td>2511.564977</td>\n",
       "    </tr>\n",
       "    <tr>\n",
       "      <th>min</th>\n",
       "      <td>2015.000000</td>\n",
       "      <td>2015.000000</td>\n",
       "      <td>0.000000</td>\n",
       "      <td>0.000000</td>\n",
       "      <td>-0.700000</td>\n",
       "      <td>1.300000</td>\n",
       "      <td>1.000000</td>\n",
       "    </tr>\n",
       "    <tr>\n",
       "      <th>25%</th>\n",
       "      <td>2017.000000</td>\n",
       "      <td>2017.000000</td>\n",
       "      <td>15.900000</td>\n",
       "      <td>15.900000</td>\n",
       "      <td>12.600000</td>\n",
       "      <td>19.700000</td>\n",
       "      <td>19.000000</td>\n",
       "    </tr>\n",
       "    <tr>\n",
       "      <th>50%</th>\n",
       "      <td>2019.000000</td>\n",
       "      <td>2019.000000</td>\n",
       "      <td>32.800000</td>\n",
       "      <td>32.800000</td>\n",
       "      <td>27.000000</td>\n",
       "      <td>38.900000</td>\n",
       "      <td>34.000000</td>\n",
       "    </tr>\n",
       "    <tr>\n",
       "      <th>75%</th>\n",
       "      <td>2021.000000</td>\n",
       "      <td>2021.000000</td>\n",
       "      <td>56.900000</td>\n",
       "      <td>56.900000</td>\n",
       "      <td>49.400000</td>\n",
       "      <td>64.600000</td>\n",
       "      <td>49.000000</td>\n",
       "    </tr>\n",
       "    <tr>\n",
       "      <th>max</th>\n",
       "      <td>2022.000000</td>\n",
       "      <td>2022.000000</td>\n",
       "      <td>100.000000</td>\n",
       "      <td>100.000000</td>\n",
       "      <td>99.600000</td>\n",
       "      <td>100.000000</td>\n",
       "      <td>9004.000000</td>\n",
       "    </tr>\n",
       "  </tbody>\n",
       "</table>\n",
       "</div>"
      ],
      "text/plain": [
       "           YearStart        YearEnd     Data_Value  Data_Value_Alt  \\\n",
       "count  284142.000000  284142.000000  192808.000000   192808.000000   \n",
       "mean     2018.596065    2018.657735      37.676757       37.676757   \n",
       "std         2.302815       2.360105      25.213484       25.213484   \n",
       "min      2015.000000    2015.000000       0.000000        0.000000   \n",
       "25%      2017.000000    2017.000000      15.900000       15.900000   \n",
       "50%      2019.000000    2019.000000      32.800000       32.800000   \n",
       "75%      2021.000000    2021.000000      56.900000       56.900000   \n",
       "max      2022.000000    2022.000000     100.000000      100.000000   \n",
       "\n",
       "       Low_Confidence_Limit  High_Confidence_Limit     LocationID  \n",
       "count         192597.000000          192597.000000  284142.000000  \n",
       "mean              33.027824              42.595333     800.322677  \n",
       "std               24.290016              26.156408    2511.564977  \n",
       "min               -0.700000               1.300000       1.000000  \n",
       "25%               12.600000              19.700000      19.000000  \n",
       "50%               27.000000              38.900000      34.000000  \n",
       "75%               49.400000              64.600000      49.000000  \n",
       "max               99.600000             100.000000    9004.000000  "
      ]
     },
     "execution_count": 6,
     "metadata": {},
     "output_type": "execute_result"
    }
   ],
   "source": [
    "# Basic checks\n",
    "data.describe()"
   ]
  },
  {
   "cell_type": "code",
   "execution_count": 7,
   "id": "bd9abb49-5c21-4eba-be7d-3217ff67e511",
   "metadata": {},
   "outputs": [
    {
     "name": "stdout",
     "output_type": "stream",
     "text": [
      "Data_Value_Footnote_Symbol\n",
      "Data_Value_Footnote\n",
      "StratificationCategory2\n",
      "Stratification2\n",
      "Geolocation\n"
     ]
    }
   ],
   "source": [
    "# Check for mixed types\n",
    "\n",
    "for col in data.columns.tolist():\n",
    "    weird = (data[[col]].map(type) != data[[col]].iloc[0].apply(type)).any(axis = 1)\n",
    "    if len (data[weird]) > 0:\n",
    "        print(col)"
   ]
  },
  {
   "cell_type": "code",
   "execution_count": 8,
   "id": "e1e81796-3291-4704-bd51-a5367d98a438",
   "metadata": {},
   "outputs": [
    {
     "data": {
      "text/plain": [
       "Data_Value_Footnote_Symbol\n",
       "NaN     174166\n",
       "****     78875\n",
       "&        14224\n",
       "~        12459\n",
       "#         3361\n",
       "**        1057\n",
       "Name: count, dtype: int64"
      ]
     },
     "execution_count": 8,
     "metadata": {},
     "output_type": "execute_result"
    }
   ],
   "source": [
    "data['Data_Value_Footnote_Symbol'].value_counts(dropna = False)"
   ]
  },
  {
   "cell_type": "code",
   "execution_count": 9,
   "id": "a0c1035b-0580-4424-9d7b-b1b668a77ac4",
   "metadata": {},
   "outputs": [
    {
     "data": {
      "text/plain": [
       "Data_Value_Footnote\n",
       "NaN                                                                                                                                174166\n",
       "Sample size of denominator and/or age group for age-standardization is less than 50 or relative standard error is more than 30%     78875\n",
       "Regional estimates may not represent all states in the region                                                                       14224\n",
       "No Data Available                                                                                                                   12459\n",
       "Fewer than 50 States reporting                                                                                                       3361\n",
       "Estimate is not comparable to those generated using data from years prior to 2019 due to survey question changes                     1057\n",
       "Name: count, dtype: int64"
      ]
     },
     "execution_count": 9,
     "metadata": {},
     "output_type": "execute_result"
    }
   ],
   "source": [
    "data['Data_Value_Footnote'].value_counts(dropna = False)"
   ]
  },
  {
   "cell_type": "code",
   "execution_count": 10,
   "id": "ea2cf2e9-0f8e-4acb-bb43-89dece36ed4e",
   "metadata": {},
   "outputs": [
    {
     "data": {
      "text/plain": [
       "StratificationCategory2\n",
       "Race/Ethnicity    178431\n",
       "Gender             68838\n",
       "NaN                36873\n",
       "Name: count, dtype: int64"
      ]
     },
     "execution_count": 10,
     "metadata": {},
     "output_type": "execute_result"
    }
   ],
   "source": [
    "data['StratificationCategory2'].value_counts(dropna = False)"
   ]
  },
  {
   "cell_type": "code",
   "execution_count": 11,
   "id": "26012a74-1414-4859-ba17-8425e83c9190",
   "metadata": {},
   "outputs": [
    {
     "data": {
      "text/plain": [
       "Stratification2\n",
       "NaN                         36873\n",
       "White, non-Hispanic         36450\n",
       "Hispanic                    36326\n",
       "Black, non-Hispanic         35770\n",
       "Native Am/Alaskan Native    35021\n",
       "Asian/Pacific Islander      34864\n",
       "Female                      34596\n",
       "Male                        34242\n",
       "Name: count, dtype: int64"
      ]
     },
     "execution_count": 11,
     "metadata": {},
     "output_type": "execute_result"
    }
   ],
   "source": [
    "data['Stratification2'].value_counts(dropna = False)"
   ]
  },
  {
   "cell_type": "code",
   "execution_count": 12,
   "id": "2c43de9a-5e0b-4abc-8818-0bc37bd49012",
   "metadata": {},
   "outputs": [
    {
     "data": {
      "text/plain": [
       "Geolocation\n",
       "NaN                                 30489\n",
       "POINT (-120.1550313 44.56744942)     5916\n",
       "POINT (-75.54397043 42.82700103)     5787\n",
       "POINT (-111.5871306 39.36070017)     5368\n",
       "POINT (-82.40426006 40.06021014)     5311\n",
       "POINT (-157.8577494 21.30485044)     5164\n",
       "POINT (-76.60926011 39.29058096)     5132\n",
       "POINT (-83.62758035 32.83968109)     5124\n",
       "POINT (-84.71439027 44.66131954)     5113\n",
       "POINT (-117.0718406 39.49324039)     4950\n",
       "POINT (-68.98503134 45.25422889)     4949\n",
       "POINT (-99.42677021 31.82724041)     4947\n",
       "POINT (-89.53803082 32.7455101)      4939\n",
       "POINT (-78.45789046 37.54268067)     4936\n",
       "POINT (-89.81637074 44.39319117)     4928\n",
       "POINT (-80.71264013 38.6655102)      4856\n",
       "POINT (-85.77449091 35.68094058)     4844\n",
       "POINT (-77.86070029 40.79373015)     4810\n",
       "POINT (-81.04537121 33.9988213)      4807\n",
       "POINT (-86.63186076 32.84057112)     4807\n",
       "POINT (-106.240581 34.52088095)      4805\n",
       "POINT (-84.77497105 37.64597027)     4795\n",
       "POINT (-97.52107021 35.47203136)     4779\n",
       "POINT (-147.722059 64.84507996)      4763\n",
       "POINT (-86.14996019 39.76691045)     4761\n",
       "POINT (-92.44568007 31.31266064)     4728\n",
       "POINT (-92.56630005 38.63579078)     4719\n",
       "POINT (-88.99771018 40.48501028)     4705\n",
       "POINT (-72.64984095 41.56266102)     4704\n",
       "POINT (-94.7942005 46.35564874)      4701\n",
       "POINT (-114.36373 43.68263001)       4698\n",
       "POINT (-71.52247031 41.70828019)     4698\n",
       "POINT (-99.36572062 41.64104099)     4695\n",
       "POINT (-100.3735306 44.35313005)     4689\n",
       "POINT (-93.81649056 42.46940091)     4681\n",
       "POINT (-100.118421 47.47531978)      4679\n",
       "POINT (-111.7638113 34.86597028)     4671\n",
       "POINT (-120.9999995 37.63864012)     4654\n",
       "POINT (-77.036871 38.907192)         4649\n",
       "POINT (-108.1098304 43.23554134)     4641\n",
       "POINT (-98.20078123 38.3477403)      4632\n",
       "POINT (-75.57774117 39.00883067)     4630\n",
       "POINT (-74.27369129 40.13057005)     4627\n",
       "POINT (-92.27449074 34.74865012)     4618\n",
       "POINT (-79.15925046 35.46622098)     4605\n",
       "POINT (-72.51764079 43.62538124)     4561\n",
       "POINT (-120.4700108 47.52227863)     4545\n",
       "POINT (-106.1336109 38.84384076)     4536\n",
       "POINT (-71.50036092 43.65595011)     4475\n",
       "POINT (-72.08269067 42.27687047)     4319\n",
       "POINT (-81.92896054 28.93204038)     4173\n",
       "POINT (-109.4244206 47.06652897)     4162\n",
       "POINT (-66.590149 18.220833)         3714\n",
       "POINT (144.793731 13.444304)         3597\n",
       "POINT (-64.896335 18.335765)         1556\n",
       "Name: count, dtype: int64"
      ]
     },
     "execution_count": 12,
     "metadata": {},
     "output_type": "execute_result"
    }
   ],
   "source": [
    "data['Geolocation'].value_counts(dropna = False)"
   ]
  },
  {
   "cell_type": "code",
   "execution_count": 13,
   "id": "0c2bbfd5-321a-4e9f-bb62-81ae5d5f8489",
   "metadata": {},
   "outputs": [],
   "source": [
    "# Fix the mixed types\n",
    "\n",
    "data['Data_Value_Footnote_Symbol'] = data['Data_Value_Footnote_Symbol'].astype('str')\n",
    "data['Data_Value_Footnote'] = data['Data_Value_Footnote'].astype('str')\n",
    "data['Stratification2'] = data['Stratification2'].astype('str')\n",
    "data['Geolocation'] = data['Geolocation'].astype('str')"
   ]
  },
  {
   "cell_type": "markdown",
   "id": "1da0641b-8470-4a71-bfb4-2e69857ba349",
   "metadata": {},
   "source": [
    "Mixed types check result: several mixed types are found and the issues have been fixed."
   ]
  },
  {
   "cell_type": "code",
   "execution_count": 15,
   "id": "b7703174-3c22-4fc9-8ae3-7c44c4b1877e",
   "metadata": {},
   "outputs": [
    {
     "data": {
      "text/plain": [
       "RowId                             0\n",
       "YearStart                         0\n",
       "YearEnd                           0\n",
       "LocationAbbr                      0\n",
       "LocationDesc                      0\n",
       "Datasource                        0\n",
       "Class                             0\n",
       "Topic                             0\n",
       "Question                          0\n",
       "Data_Value_Unit                   0\n",
       "DataValueTypeID                   0\n",
       "Data_Value_Type                   0\n",
       "Data_Value                    91334\n",
       "Data_Value_Alt                91334\n",
       "Data_Value_Footnote_Symbol        0\n",
       "Data_Value_Footnote               0\n",
       "Low_Confidence_Limit          91545\n",
       "High_Confidence_Limit         91545\n",
       "StratificationCategory1           0\n",
       "Stratification1                   0\n",
       "StratificationCategory2       36873\n",
       "Stratification2                   0\n",
       "Geolocation                       0\n",
       "ClassID                           0\n",
       "TopicID                           0\n",
       "QuestionID                        0\n",
       "LocationID                        0\n",
       "StratificationCategoryID1         0\n",
       "StratificationID1                 0\n",
       "StratificationCategoryID2         0\n",
       "StratificationID2                 0\n",
       "dtype: int64"
      ]
     },
     "execution_count": 15,
     "metadata": {},
     "output_type": "execute_result"
    }
   ],
   "source": [
    "# Check for missing values\n",
    "\n",
    "data.isnull().sum()"
   ]
  },
  {
   "cell_type": "markdown",
   "id": "e9f12256-22ad-4b5f-9e5c-511be9935fe3",
   "metadata": {},
   "source": [
    "Missing values check result: Several values are missing. However, deleting them would lose a significant prportion of the data so I will just leave the data like this."
   ]
  },
  {
   "cell_type": "code",
   "execution_count": 17,
   "id": "57ba1eeb-9679-4df9-ba3e-2935d5e0a799",
   "metadata": {},
   "outputs": [],
   "source": [
    "# Check for duplicates\n",
    "\n",
    "dups = data[data.duplicated()]"
   ]
  },
  {
   "cell_type": "code",
   "execution_count": 18,
   "id": "3def2b1c-eca9-458d-9b9f-49a224eb0392",
   "metadata": {},
   "outputs": [
    {
     "data": {
      "text/html": [
       "<div>\n",
       "<style scoped>\n",
       "    .dataframe tbody tr th:only-of-type {\n",
       "        vertical-align: middle;\n",
       "    }\n",
       "\n",
       "    .dataframe tbody tr th {\n",
       "        vertical-align: top;\n",
       "    }\n",
       "\n",
       "    .dataframe thead th {\n",
       "        text-align: right;\n",
       "    }\n",
       "</style>\n",
       "<table border=\"1\" class=\"dataframe\">\n",
       "  <thead>\n",
       "    <tr style=\"text-align: right;\">\n",
       "      <th></th>\n",
       "      <th>RowId</th>\n",
       "      <th>YearStart</th>\n",
       "      <th>YearEnd</th>\n",
       "      <th>LocationAbbr</th>\n",
       "      <th>LocationDesc</th>\n",
       "      <th>Datasource</th>\n",
       "      <th>Class</th>\n",
       "      <th>Topic</th>\n",
       "      <th>Question</th>\n",
       "      <th>Data_Value_Unit</th>\n",
       "      <th>...</th>\n",
       "      <th>Stratification2</th>\n",
       "      <th>Geolocation</th>\n",
       "      <th>ClassID</th>\n",
       "      <th>TopicID</th>\n",
       "      <th>QuestionID</th>\n",
       "      <th>LocationID</th>\n",
       "      <th>StratificationCategoryID1</th>\n",
       "      <th>StratificationID1</th>\n",
       "      <th>StratificationCategoryID2</th>\n",
       "      <th>StratificationID2</th>\n",
       "    </tr>\n",
       "  </thead>\n",
       "  <tbody>\n",
       "  </tbody>\n",
       "</table>\n",
       "<p>0 rows × 31 columns</p>\n",
       "</div>"
      ],
      "text/plain": [
       "Empty DataFrame\n",
       "Columns: [RowId, YearStart, YearEnd, LocationAbbr, LocationDesc, Datasource, Class, Topic, Question, Data_Value_Unit, DataValueTypeID, Data_Value_Type, Data_Value, Data_Value_Alt, Data_Value_Footnote_Symbol, Data_Value_Footnote, Low_Confidence_Limit, High_Confidence_Limit, StratificationCategory1, Stratification1, StratificationCategory2, Stratification2, Geolocation, ClassID, TopicID, QuestionID, LocationID, StratificationCategoryID1, StratificationID1, StratificationCategoryID2, StratificationID2]\n",
       "Index: []\n",
       "\n",
       "[0 rows x 31 columns]"
      ]
     },
     "execution_count": 18,
     "metadata": {},
     "output_type": "execute_result"
    }
   ],
   "source": [
    "dups"
   ]
  },
  {
   "cell_type": "markdown",
   "id": "3e652fc5-7d7c-440a-916a-444e8f5b1865",
   "metadata": {},
   "source": [
    "Duplicates check result: No duplicates are found."
   ]
  },
  {
   "cell_type": "markdown",
   "id": "51f1b6ab-b341-453e-b6d9-e3cbb78ef483",
   "metadata": {},
   "source": [
    "## 2. Descriptive analysis"
   ]
  },
  {
   "cell_type": "code",
   "execution_count": 21,
   "id": "34b86c08-e21f-4713-93a6-5295e3fbca48",
   "metadata": {},
   "outputs": [
    {
     "data": {
      "text/plain": [
       "Index(['RowId', 'YearStart', 'YearEnd', 'LocationAbbr', 'LocationDesc',\n",
       "       'Datasource', 'Class', 'Topic', 'Question', 'Data_Value_Unit',\n",
       "       'DataValueTypeID', 'Data_Value_Type', 'Data_Value', 'Data_Value_Alt',\n",
       "       'Data_Value_Footnote_Symbol', 'Data_Value_Footnote',\n",
       "       'Low_Confidence_Limit', 'High_Confidence_Limit',\n",
       "       'StratificationCategory1', 'Stratification1', 'StratificationCategory2',\n",
       "       'Stratification2', 'Geolocation', 'ClassID', 'TopicID', 'QuestionID',\n",
       "       'LocationID', 'StratificationCategoryID1', 'StratificationID1',\n",
       "       'StratificationCategoryID2', 'StratificationID2'],\n",
       "      dtype='object')"
      ]
     },
     "execution_count": 21,
     "metadata": {},
     "output_type": "execute_result"
    }
   ],
   "source": [
    "# Check the columns of dataset\n",
    "\n",
    "data.columns"
   ]
  },
  {
   "cell_type": "code",
   "execution_count": 22,
   "id": "2305280f-4cff-4747-9721-32883bcebc8e",
   "metadata": {},
   "outputs": [
    {
     "data": {
      "text/plain": [
       "(284142, 31)"
      ]
     },
     "execution_count": 22,
     "metadata": {},
     "output_type": "execute_result"
    }
   ],
   "source": [
    "# Check the size of dataset\n",
    "\n",
    "data.shape"
   ]
  },
  {
   "cell_type": "code",
   "execution_count": 23,
   "id": "1febdfdc-b5d1-4b9f-969f-db3bcd71c70a",
   "metadata": {},
   "outputs": [
    {
     "data": {
      "text/html": [
       "<div>\n",
       "<style scoped>\n",
       "    .dataframe tbody tr th:only-of-type {\n",
       "        vertical-align: middle;\n",
       "    }\n",
       "\n",
       "    .dataframe tbody tr th {\n",
       "        vertical-align: top;\n",
       "    }\n",
       "\n",
       "    .dataframe thead th {\n",
       "        text-align: right;\n",
       "    }\n",
       "</style>\n",
       "<table border=\"1\" class=\"dataframe\">\n",
       "  <thead>\n",
       "    <tr style=\"text-align: right;\">\n",
       "      <th></th>\n",
       "      <th>YearStart</th>\n",
       "      <th>YearEnd</th>\n",
       "      <th>Data_Value</th>\n",
       "      <th>Data_Value_Alt</th>\n",
       "      <th>Low_Confidence_Limit</th>\n",
       "      <th>High_Confidence_Limit</th>\n",
       "      <th>LocationID</th>\n",
       "    </tr>\n",
       "  </thead>\n",
       "  <tbody>\n",
       "    <tr>\n",
       "      <th>count</th>\n",
       "      <td>284142.000000</td>\n",
       "      <td>284142.000000</td>\n",
       "      <td>192808.000000</td>\n",
       "      <td>192808.000000</td>\n",
       "      <td>192597.000000</td>\n",
       "      <td>192597.000000</td>\n",
       "      <td>284142.000000</td>\n",
       "    </tr>\n",
       "    <tr>\n",
       "      <th>mean</th>\n",
       "      <td>2018.596065</td>\n",
       "      <td>2018.657735</td>\n",
       "      <td>37.676757</td>\n",
       "      <td>37.676757</td>\n",
       "      <td>33.027824</td>\n",
       "      <td>42.595333</td>\n",
       "      <td>800.322677</td>\n",
       "    </tr>\n",
       "    <tr>\n",
       "      <th>std</th>\n",
       "      <td>2.302815</td>\n",
       "      <td>2.360105</td>\n",
       "      <td>25.213484</td>\n",
       "      <td>25.213484</td>\n",
       "      <td>24.290016</td>\n",
       "      <td>26.156408</td>\n",
       "      <td>2511.564977</td>\n",
       "    </tr>\n",
       "    <tr>\n",
       "      <th>min</th>\n",
       "      <td>2015.000000</td>\n",
       "      <td>2015.000000</td>\n",
       "      <td>0.000000</td>\n",
       "      <td>0.000000</td>\n",
       "      <td>-0.700000</td>\n",
       "      <td>1.300000</td>\n",
       "      <td>1.000000</td>\n",
       "    </tr>\n",
       "    <tr>\n",
       "      <th>25%</th>\n",
       "      <td>2017.000000</td>\n",
       "      <td>2017.000000</td>\n",
       "      <td>15.900000</td>\n",
       "      <td>15.900000</td>\n",
       "      <td>12.600000</td>\n",
       "      <td>19.700000</td>\n",
       "      <td>19.000000</td>\n",
       "    </tr>\n",
       "    <tr>\n",
       "      <th>50%</th>\n",
       "      <td>2019.000000</td>\n",
       "      <td>2019.000000</td>\n",
       "      <td>32.800000</td>\n",
       "      <td>32.800000</td>\n",
       "      <td>27.000000</td>\n",
       "      <td>38.900000</td>\n",
       "      <td>34.000000</td>\n",
       "    </tr>\n",
       "    <tr>\n",
       "      <th>75%</th>\n",
       "      <td>2021.000000</td>\n",
       "      <td>2021.000000</td>\n",
       "      <td>56.900000</td>\n",
       "      <td>56.900000</td>\n",
       "      <td>49.400000</td>\n",
       "      <td>64.600000</td>\n",
       "      <td>49.000000</td>\n",
       "    </tr>\n",
       "    <tr>\n",
       "      <th>max</th>\n",
       "      <td>2022.000000</td>\n",
       "      <td>2022.000000</td>\n",
       "      <td>100.000000</td>\n",
       "      <td>100.000000</td>\n",
       "      <td>99.600000</td>\n",
       "      <td>100.000000</td>\n",
       "      <td>9004.000000</td>\n",
       "    </tr>\n",
       "  </tbody>\n",
       "</table>\n",
       "</div>"
      ],
      "text/plain": [
       "           YearStart        YearEnd     Data_Value  Data_Value_Alt  \\\n",
       "count  284142.000000  284142.000000  192808.000000   192808.000000   \n",
       "mean     2018.596065    2018.657735      37.676757       37.676757   \n",
       "std         2.302815       2.360105      25.213484       25.213484   \n",
       "min      2015.000000    2015.000000       0.000000        0.000000   \n",
       "25%      2017.000000    2017.000000      15.900000       15.900000   \n",
       "50%      2019.000000    2019.000000      32.800000       32.800000   \n",
       "75%      2021.000000    2021.000000      56.900000       56.900000   \n",
       "max      2022.000000    2022.000000     100.000000      100.000000   \n",
       "\n",
       "       Low_Confidence_Limit  High_Confidence_Limit     LocationID  \n",
       "count         192597.000000          192597.000000  284142.000000  \n",
       "mean              33.027824              42.595333     800.322677  \n",
       "std               24.290016              26.156408    2511.564977  \n",
       "min               -0.700000               1.300000       1.000000  \n",
       "25%               12.600000              19.700000      19.000000  \n",
       "50%               27.000000              38.900000      34.000000  \n",
       "75%               49.400000              64.600000      49.000000  \n",
       "max               99.600000             100.000000    9004.000000  "
      ]
     },
     "execution_count": 23,
     "metadata": {},
     "output_type": "execute_result"
    }
   ],
   "source": [
    "# Desciptive statistics of dataset\n",
    "\n",
    "data.describe()"
   ]
  },
  {
   "cell_type": "markdown",
   "id": "5c5b84fd-9307-483d-84e0-b38eff5153c5",
   "metadata": {},
   "source": [
    "The column of \"LocationID\" doesn't really represent real numeric values and could be changed to a string"
   ]
  },
  {
   "cell_type": "code",
   "execution_count": 25,
   "id": "f843fd7d-a8e3-4929-aa46-23f986688452",
   "metadata": {},
   "outputs": [],
   "source": [
    "# Change the data type of \"LocationID\" column\n",
    "data['LocationID'] = data['LocationID'].astype('str')"
   ]
  },
  {
   "cell_type": "code",
   "execution_count": 26,
   "id": "5f930666-08c2-4be4-a519-a42c05495c07",
   "metadata": {},
   "outputs": [
    {
     "data": {
      "text/html": [
       "<div>\n",
       "<style scoped>\n",
       "    .dataframe tbody tr th:only-of-type {\n",
       "        vertical-align: middle;\n",
       "    }\n",
       "\n",
       "    .dataframe tbody tr th {\n",
       "        vertical-align: top;\n",
       "    }\n",
       "\n",
       "    .dataframe thead th {\n",
       "        text-align: right;\n",
       "    }\n",
       "</style>\n",
       "<table border=\"1\" class=\"dataframe\">\n",
       "  <thead>\n",
       "    <tr style=\"text-align: right;\">\n",
       "      <th></th>\n",
       "      <th>YearStart</th>\n",
       "      <th>YearEnd</th>\n",
       "      <th>Data_Value</th>\n",
       "      <th>Data_Value_Alt</th>\n",
       "      <th>Low_Confidence_Limit</th>\n",
       "      <th>High_Confidence_Limit</th>\n",
       "    </tr>\n",
       "  </thead>\n",
       "  <tbody>\n",
       "    <tr>\n",
       "      <th>count</th>\n",
       "      <td>284142.000000</td>\n",
       "      <td>284142.000000</td>\n",
       "      <td>192808.000000</td>\n",
       "      <td>192808.000000</td>\n",
       "      <td>192597.000000</td>\n",
       "      <td>192597.000000</td>\n",
       "    </tr>\n",
       "    <tr>\n",
       "      <th>mean</th>\n",
       "      <td>2018.596065</td>\n",
       "      <td>2018.657735</td>\n",
       "      <td>37.676757</td>\n",
       "      <td>37.676757</td>\n",
       "      <td>33.027824</td>\n",
       "      <td>42.595333</td>\n",
       "    </tr>\n",
       "    <tr>\n",
       "      <th>std</th>\n",
       "      <td>2.302815</td>\n",
       "      <td>2.360105</td>\n",
       "      <td>25.213484</td>\n",
       "      <td>25.213484</td>\n",
       "      <td>24.290016</td>\n",
       "      <td>26.156408</td>\n",
       "    </tr>\n",
       "    <tr>\n",
       "      <th>min</th>\n",
       "      <td>2015.000000</td>\n",
       "      <td>2015.000000</td>\n",
       "      <td>0.000000</td>\n",
       "      <td>0.000000</td>\n",
       "      <td>-0.700000</td>\n",
       "      <td>1.300000</td>\n",
       "    </tr>\n",
       "    <tr>\n",
       "      <th>25%</th>\n",
       "      <td>2017.000000</td>\n",
       "      <td>2017.000000</td>\n",
       "      <td>15.900000</td>\n",
       "      <td>15.900000</td>\n",
       "      <td>12.600000</td>\n",
       "      <td>19.700000</td>\n",
       "    </tr>\n",
       "    <tr>\n",
       "      <th>50%</th>\n",
       "      <td>2019.000000</td>\n",
       "      <td>2019.000000</td>\n",
       "      <td>32.800000</td>\n",
       "      <td>32.800000</td>\n",
       "      <td>27.000000</td>\n",
       "      <td>38.900000</td>\n",
       "    </tr>\n",
       "    <tr>\n",
       "      <th>75%</th>\n",
       "      <td>2021.000000</td>\n",
       "      <td>2021.000000</td>\n",
       "      <td>56.900000</td>\n",
       "      <td>56.900000</td>\n",
       "      <td>49.400000</td>\n",
       "      <td>64.600000</td>\n",
       "    </tr>\n",
       "    <tr>\n",
       "      <th>max</th>\n",
       "      <td>2022.000000</td>\n",
       "      <td>2022.000000</td>\n",
       "      <td>100.000000</td>\n",
       "      <td>100.000000</td>\n",
       "      <td>99.600000</td>\n",
       "      <td>100.000000</td>\n",
       "    </tr>\n",
       "  </tbody>\n",
       "</table>\n",
       "</div>"
      ],
      "text/plain": [
       "           YearStart        YearEnd     Data_Value  Data_Value_Alt  \\\n",
       "count  284142.000000  284142.000000  192808.000000   192808.000000   \n",
       "mean     2018.596065    2018.657735      37.676757       37.676757   \n",
       "std         2.302815       2.360105      25.213484       25.213484   \n",
       "min      2015.000000    2015.000000       0.000000        0.000000   \n",
       "25%      2017.000000    2017.000000      15.900000       15.900000   \n",
       "50%      2019.000000    2019.000000      32.800000       32.800000   \n",
       "75%      2021.000000    2021.000000      56.900000       56.900000   \n",
       "max      2022.000000    2022.000000     100.000000      100.000000   \n",
       "\n",
       "       Low_Confidence_Limit  High_Confidence_Limit  \n",
       "count         192597.000000          192597.000000  \n",
       "mean              33.027824              42.595333  \n",
       "std               24.290016              26.156408  \n",
       "min               -0.700000               1.300000  \n",
       "25%               12.600000              19.700000  \n",
       "50%               27.000000              38.900000  \n",
       "75%               49.400000              64.600000  \n",
       "max               99.600000             100.000000  "
      ]
     },
     "execution_count": 26,
     "metadata": {},
     "output_type": "execute_result"
    }
   ],
   "source": [
    "# Double check with the change\n",
    "\n",
    "data.describe()"
   ]
  },
  {
   "cell_type": "code",
   "execution_count": 27,
   "id": "d5ec1f0a-622a-4186-a929-de8428b0508b",
   "metadata": {},
   "outputs": [
    {
     "data": {
      "text/plain": [
       "RowId                          object\n",
       "YearStart                       int64\n",
       "YearEnd                         int64\n",
       "LocationAbbr                   object\n",
       "LocationDesc                   object\n",
       "Datasource                     object\n",
       "Class                          object\n",
       "Topic                          object\n",
       "Question                       object\n",
       "Data_Value_Unit                object\n",
       "DataValueTypeID                object\n",
       "Data_Value_Type                object\n",
       "Data_Value                    float64\n",
       "Data_Value_Alt                float64\n",
       "Data_Value_Footnote_Symbol     object\n",
       "Data_Value_Footnote            object\n",
       "Low_Confidence_Limit          float64\n",
       "High_Confidence_Limit         float64\n",
       "StratificationCategory1        object\n",
       "Stratification1                object\n",
       "StratificationCategory2        object\n",
       "Stratification2                object\n",
       "Geolocation                    object\n",
       "ClassID                        object\n",
       "TopicID                        object\n",
       "QuestionID                     object\n",
       "LocationID                     object\n",
       "StratificationCategoryID1      object\n",
       "StratificationID1              object\n",
       "StratificationCategoryID2      object\n",
       "StratificationID2              object\n",
       "dtype: object"
      ]
     },
     "execution_count": 27,
     "metadata": {},
     "output_type": "execute_result"
    }
   ],
   "source": [
    "data.dtypes"
   ]
  },
  {
   "cell_type": "code",
   "execution_count": 28,
   "id": "7d486609-3db2-4d3e-9f7c-df039fdb44f3",
   "metadata": {},
   "outputs": [],
   "source": [
    "# Export dataset\n",
    "\n",
    "data.to_csv(os.path.join(path, 'Data', 'adhad_cleaned.csv'))"
   ]
  }
 ],
 "metadata": {
  "kernelspec": {
   "display_name": "Python 3 (ipykernel)",
   "language": "python",
   "name": "python3"
  },
  "language_info": {
   "codemirror_mode": {
    "name": "ipython",
    "version": 3
   },
   "file_extension": ".py",
   "mimetype": "text/x-python",
   "name": "python",
   "nbconvert_exporter": "python",
   "pygments_lexer": "ipython3",
   "version": "3.11.7"
  }
 },
 "nbformat": 4,
 "nbformat_minor": 5
}
